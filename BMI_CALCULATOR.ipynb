{
  "nbformat": 4,
  "nbformat_minor": 0,
  "metadata": {
    "colab": {
      "provenance": []
    },
    "kernelspec": {
      "name": "python3",
      "display_name": "Python 3"
    },
    "language_info": {
      "name": "python"
    }
  },
  "cells": [
    {
      "cell_type": "code",
      "execution_count": 1,
      "metadata": {
        "colab": {
          "base_uri": "https://localhost:8080/"
        },
        "id": "pn10xUP9lgMN",
        "outputId": "a79a360f-a857-4e85-a681-f0c6515ff5aa"
      },
      "outputs": [
        {
          "output_type": "stream",
          "name": "stdout",
          "text": [
            "What is your name: Gilbert\n",
            "HellowGilbert. Welcome to our BMI Calculator System\n"
          ]
        }
      ],
      "source": [
        "name=input(\"What is your name: \")\n",
        "print(f\"Hellow{name}. Welcome to our BMI Calculator System\")"
      ]
    },
    {
      "cell_type": "code",
      "source": [
        "print(\"Provide us with your information below: \")\n",
        "weight=float(input(\"Enter your weight: Kgs \"))\n",
        "height=float(input(\"Enter your height: metres\"))\n",
        "BMI=round(weight/(height*height),2)\n",
        "print(\"============BMI Results============\")\n",
        "print(f\"Your BMI is: {BMI}\")\n",
        "if BMI>25:\n",
        "    print(\"Overweight\")\n",
        "elif BMI<18:\n",
        "    print(\"Underweight\")\n",
        "else:\n",
        "    print(\"Normal\")"
      ],
      "metadata": {
        "colab": {
          "base_uri": "https://localhost:8080/"
        },
        "id": "YTpm1aj3lsuU",
        "outputId": "81a47fa8-d862-473a-c140-7a1bf0e36a38"
      },
      "execution_count": 6,
      "outputs": [
        {
          "output_type": "stream",
          "name": "stdout",
          "text": [
            "Provide us with your information below: \n",
            "Enter your weight: Kgs 110\n",
            "Enter your height: metres190\n",
            "============BMI Results============\n",
            "Your BMI is: 0.0\n",
            "Underweight\n"
          ]
        }
      ]
    }
  ]
}